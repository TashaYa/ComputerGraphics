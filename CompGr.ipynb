{
 "cells": [
  {
   "cell_type": "code",
   "execution_count": 1,
   "metadata": {},
   "outputs": [],
   "source": [
    "import math\n",
    "import numpy as np\n",
    "from PIL import Image"
   ]
  },
  {
   "cell_type": "code",
   "execution_count": 4,
   "metadata": {},
   "outputs": [],
   "source": [
    "image = Image.open(r'canvas.png')\n",
    "\n",
    "ImageW, ImageH = image.size\n",
    "dist = 10\n",
    "WindowW = 10\n",
    "WindowH = 10\n",
    "BACKGROUND_COLOR = np.array([0, 0, 0])\n",
    "\n",
    "class sphere():\n",
    "    center = np.array([0, 0, 3])\n",
    "    radius = 1\n",
    "    color = np.array([0, 255, 255])\n",
    "\n",
    "\n",
    "def CanvasToView(x,y):\n",
    "    return (x*WindowW/ImageW, -y*WindowH/ImageH, dist)\n",
    "\n",
    "def IntersectRaySphere(O, d, sphere):\n",
    "    center = sphere.center\n",
    "    radius = sphere.radius\n",
    "    oc = O - center\n",
    "\n",
    "    k1 = np.sum(np.dot(d, d))\n",
    "    k2 = 2*np.sum(np.dot(oc, d))\n",
    "    k3 = np.sum(np.dot(oc, oc)) - radius*radius\n",
    "\n",
    "    discriminant = k2*k2 - 4*k1*k3\n",
    "    if discriminant < 0:\n",
    "        return math.inf, math.inf\n",
    "\n",
    "    t1 = (-k2 + math.sqrt(discriminant)) / (2*k1)\n",
    "    t2 = (-k2 - math.sqrt(discriminant)) / (2*k1)\n",
    "    return t1, t2\n",
    "\n",
    "def TraceRay(O, d, tmin, tmax):\n",
    "    closest_t = math.inf\n",
    "    closest_sphere = None\n",
    "    \n",
    "    \n",
    "    #for sphere in scene.Spheres\n",
    "    t1, t2 = IntersectRaySphere(O, d, sphere)\n",
    "    if t1 >= tmin and t1 <= tmax and t1 < closest_t:\n",
    "        closest_t = t1\n",
    "        closest_sphere = sphere\n",
    "    if t2 >= tmin and t2 <= tmax and t2 < closest_t:\n",
    "        closest_t = t2\n",
    "        closest_sphere = sphere\n",
    "        \n",
    "    if closest_sphere == None:\n",
    "        return BACKGROUND_COLOR\n",
    "    return closest_sphere.color\n",
    "\n",
    "O = np.array([0,0,0])\n",
    "\n",
    "for x in range(-300, 300):\n",
    "    xx = x + 300\n",
    "    for y in range(-300, 300):\n",
    "        yy = y + 300\n",
    "        color = TraceRay(O, CanvasToView(x, y), 0, math.inf)\n",
    "        image.putpixel((xx, yy), tuple(int(c) for c in color))\n",
    "image.show()"
   ]
  },
  {
   "cell_type": "code",
   "execution_count": null,
   "metadata": {},
   "outputs": [],
   "source": []
  }
 ],
 "metadata": {
  "kernelspec": {
   "display_name": "Python 3",
   "language": "python",
   "name": "python3"
  },
  "language_info": {
   "codemirror_mode": {
    "name": "ipython",
    "version": 3
   },
   "file_extension": ".py",
   "mimetype": "text/x-python",
   "name": "python",
   "nbconvert_exporter": "python",
   "pygments_lexer": "ipython3",
   "version": "3.8.3"
  }
 },
 "nbformat": 4,
 "nbformat_minor": 4
}
